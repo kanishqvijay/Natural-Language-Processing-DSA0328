{
  "nbformat": 4,
  "nbformat_minor": 0,
  "metadata": {
    "colab": {
      "provenance": [],
      "authorship_tag": "ABX9TyNtParuvwxDMW7rTX6RT8jD",
      "include_colab_link": true
    },
    "kernelspec": {
      "name": "python3",
      "display_name": "Python 3"
    },
    "language_info": {
      "name": "python"
    }
  },
  "cells": [
    {
      "cell_type": "markdown",
      "metadata": {
        "id": "view-in-github",
        "colab_type": "text"
      },
      "source": [
        "<a href=\"https://colab.research.google.com/github/kanishqvijay/DSA0328-Natural-Language-Processing/blob/main/Program-11.ipynb\" target=\"_parent\"><img src=\"https://colab.research.google.com/assets/colab-badge.svg\" alt=\"Open In Colab\"/></a>"
      ]
    },
    {
      "cell_type": "code",
      "source": [
        "class SimpleParser:\n",
        "    def __init__(self):\n",
        "        self.grammar = {\n",
        "            'S': [['NP', 'VP']],\n",
        "            'NP': [['DT', 'NN']],\n",
        "            'VP': [['VB', 'NP']],\n",
        "            'DT': ['the'],\n",
        "            'NN': ['cat', 'dog'],\n",
        "            'VB': ['chased']\n",
        "        }\n",
        "\n",
        "    def parse(self, tokens, symbol='S'):\n",
        "        if symbol in tokens:\n",
        "            return tokens[0] == symbol, tokens[1:]\n",
        "\n",
        "        if symbol not in self.grammar:\n",
        "            return False, tokens\n",
        "\n",
        "        for production in self.grammar[symbol]:\n",
        "            remaining = tokens\n",
        "            subtrees = []\n",
        "            success = True\n",
        "\n",
        "            for sym in production:\n",
        "                s, remaining = self.parse(remaining, sym)\n",
        "                if not s:\n",
        "                    success = False\n",
        "                    break\n",
        "\n",
        "            if success:\n",
        "                return True, remaining\n",
        "\n",
        "        return False, tokens\n",
        "\n",
        "parser = SimpleParser()\n",
        "sentence = ['the', 'cat', 'chased', 'the', 'dog']\n",
        "success, remaining = parser.parse(sentence)\n",
        "print(f\"Sentence is grammatical: {success}\")\n",
        "print(f\"Remaining tokens: {remaining}\")"
      ],
      "metadata": {
        "colab": {
          "base_uri": "https://localhost:8080/"
        },
        "id": "UnXuVsbLKOGl",
        "outputId": "41a1a0cd-73bd-42d8-a3e6-d4a5f5b229fc"
      },
      "execution_count": 22,
      "outputs": [
        {
          "output_type": "stream",
          "name": "stdout",
          "text": [
            "Sentence is grammatical: False\n",
            "Remaining tokens: ['the', 'cat', 'chased', 'the', 'dog']\n"
          ]
        }
      ]
    }
  ]
}