{
  "nbformat": 4,
  "nbformat_minor": 0,
  "metadata": {
    "colab": {
      "provenance": [],
      "authorship_tag": "ABX9TyNHph5Pj+QcaHCGPfcql1o9",
      "include_colab_link": true
    },
    "kernelspec": {
      "name": "python3",
      "display_name": "Python 3"
    },
    "language_info": {
      "name": "python"
    }
  },
  "cells": [
    {
      "cell_type": "markdown",
      "metadata": {
        "id": "view-in-github",
        "colab_type": "text"
      },
      "source": [
        "<a href=\"https://colab.research.google.com/github/kanishqvijay/DSA0328-Natural-Language-Processing/blob/main/Program-13.ipynb\" target=\"_parent\"><img src=\"https://colab.research.google.com/assets/colab-badge.svg\" alt=\"Open In Colab\"/></a>"
      ]
    },
    {
      "cell_type": "code",
      "execution_count": 7,
      "metadata": {
        "colab": {
          "base_uri": "https://localhost:8080/"
        },
        "id": "Ot6y8kq_r2dE",
        "outputId": "6a2bb2a7-f314-4c4c-8842-214db54f43c4"
      },
      "outputs": [
        {
          "output_type": "stream",
          "name": "stdout",
          "text": [
            "S\n",
            "  NP\n",
            "    DET\n",
            "      the\n",
            "    N\n",
            "      dog\n",
            "  VP\n",
            "    V\n",
            "      chases\n",
            "    NP\n",
            "      DET\n",
            "        the\n",
            "      N\n",
            "        cat\n"
          ]
        }
      ],
      "source": [
        "class Node:\n",
        "    def __init__(self, value, children=None):\n",
        "        self.value = value\n",
        "        self.children = children or []\n",
        "\n",
        "def parse_sentence(sentence):\n",
        "    words = sentence.lower().split()\n",
        "    pos = 0\n",
        "\n",
        "    def parse_np():\n",
        "        nonlocal pos\n",
        "        if pos < len(words) and words[pos] == 'the':\n",
        "            det = Node('DET', [Node(words[pos])])\n",
        "            pos += 1\n",
        "            if pos < len(words) and words[pos] in ['dog', 'cat']:\n",
        "                noun = Node('N', [Node(words[pos])])\n",
        "                pos += 1\n",
        "                return Node('NP', [det, noun])\n",
        "        return None\n",
        "\n",
        "    def parse_vp():\n",
        "        nonlocal pos\n",
        "        if pos < len(words) and words[pos] == 'chases':\n",
        "            verb = Node('V', [Node(words[pos])])\n",
        "            pos += 1\n",
        "            np = parse_np()\n",
        "            if np:\n",
        "                return Node('VP', [verb, np])\n",
        "        return None\n",
        "\n",
        "    np = parse_np()\n",
        "    vp = parse_vp()\n",
        "    if np and vp:\n",
        "        return Node('S', [np, vp])\n",
        "    return None\n",
        "\n",
        "def print_tree(node, level=0):\n",
        "    print('  ' * level + node.value)\n",
        "    for child in node.children:\n",
        "        print_tree(child, level + 1)\n",
        "\n",
        "# Test the parser\n",
        "sentence = \"the dog chases the cat\"\n",
        "tree = parse_sentence(sentence)\n",
        "if tree:\n",
        "    print_tree(tree)"
      ]
    }
  ]
}