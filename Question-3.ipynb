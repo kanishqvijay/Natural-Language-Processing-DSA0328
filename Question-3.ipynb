{
  "nbformat": 4,
  "nbformat_minor": 0,
  "metadata": {
    "colab": {
      "provenance": [],
      "authorship_tag": "ABX9TyNrEk6q9s3Q6PhvWC/cl7kT",
      "include_colab_link": true
    },
    "kernelspec": {
      "name": "python3",
      "display_name": "Python 3"
    },
    "language_info": {
      "name": "python"
    }
  },
  "cells": [
    {
      "cell_type": "markdown",
      "metadata": {
        "id": "view-in-github",
        "colab_type": "text"
      },
      "source": [
        "<a href=\"https://colab.research.google.com/github/kanishqvijay/DSA0328-Natural-Language-Processing/blob/main/Program-3.ipynb\" target=\"_parent\"><img src=\"https://colab.research.google.com/assets/colab-badge.svg\" alt=\"Open In Colab\"/></a>"
      ]
    },
    {
      "cell_type": "code",
      "execution_count": 7,
      "metadata": {
        "colab": {
          "base_uri": "https://localhost:8080/"
        },
        "id": "AkxgBWrP3SS4",
        "outputId": "6e24421c-2ec8-400c-85b1-e82993ad57b1"
      },
      "outputs": [
        {
          "output_type": "stream",
          "name": "stdout",
          "text": [
            "Original words: ['The', 'cats', 'are', 'running', 'in', 'the', 'parks', 'with', 'babies']\n",
            "\n",
            "Lemmatized words: ['The', 'cat', 'are', 'running', 'in', 'the', 'park', 'with', 'baby']\n",
            "\n",
            "Morphological changes:\n",
            "cats -> cat\n",
            "parks -> park\n",
            "babies -> baby\n"
          ]
        },
        {
          "output_type": "stream",
          "name": "stderr",
          "text": [
            "[nltk_data] Downloading package punkt to /root/nltk_data...\n",
            "[nltk_data]   Package punkt is already up-to-date!\n",
            "[nltk_data] Downloading package wordnet to /root/nltk_data...\n",
            "[nltk_data]   Package wordnet is already up-to-date!\n"
          ]
        }
      ],
      "source": [
        "import nltk\n",
        "from nltk.tokenize import word_tokenize\n",
        "nltk.download('punkt')\n",
        "nltk.download('wordnet')\n",
        "from nltk.stem import WordNetLemmatizer\n",
        "\n",
        "text = \"The cats are running in the parks with babies\"\n",
        "lemmatizer = WordNetLemmatizer()\n",
        "\n",
        "words = word_tokenize(text)\n",
        "lemmatized_words = [lemmatizer.lemmatize(word) for word in words]\n",
        "\n",
        "print(\"Original words:\", words)\n",
        "print(\"\\nLemmatized words:\", lemmatized_words)\n",
        "\n",
        "morphological_analysis = []\n",
        "for original, lemma in zip(words, lemmatized_words):\n",
        "    if original != lemma:\n",
        "        morphological_analysis.append(f\"{original} -> {lemma}\")\n",
        "\n",
        "print(\"\\nMorphological changes:\")\n",
        "for analysis in morphological_analysis:\n",
        "    print(analysis)"
      ]
    }
  ]
}