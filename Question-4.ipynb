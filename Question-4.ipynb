{
  "nbformat": 4,
  "nbformat_minor": 0,
  "metadata": {
    "colab": {
      "provenance": [],
      "authorship_tag": "ABX9TyOgtTBhcAahHbNDQ3kVXLdE",
      "include_colab_link": true
    },
    "kernelspec": {
      "name": "python3",
      "display_name": "Python 3"
    },
    "language_info": {
      "name": "python"
    }
  },
  "cells": [
    {
      "cell_type": "markdown",
      "metadata": {
        "id": "view-in-github",
        "colab_type": "text"
      },
      "source": [
        "<a href=\"https://colab.research.google.com/github/kanishqvijay/DSA0328-Natural-Language-Processing/blob/main/Program-4.ipynb\" target=\"_parent\"><img src=\"https://colab.research.google.com/assets/colab-badge.svg\" alt=\"Open In Colab\"/></a>"
      ]
    },
    {
      "cell_type": "code",
      "execution_count": 8,
      "metadata": {
        "colab": {
          "base_uri": "https://localhost:8080/"
        },
        "id": "AkxgBWrP3SS4",
        "outputId": "9dd1cf6d-cb37-46aa-ba61-df4da0ec5ae0"
      },
      "outputs": [
        {
          "output_type": "stream",
          "name": "stdout",
          "text": [
            "cat -> cats\n",
            "box -> boxs\n",
            "baby -> babies\n",
            "church -> churches\n",
            "brush -> brushes\n",
            "toy -> toys\n"
          ]
        }
      ],
      "source": [
        "def generate_plural(noun):\n",
        "    if noun.endswith('s') or noun.endswith('sh') or noun.endswith('ch'):\n",
        "        return noun + 'es'\n",
        "    elif noun.endswith('y'):\n",
        "        if noun[-2] not in 'aeiou':\n",
        "            return noun[:-1] + 'ies'\n",
        "        return noun + 's'\n",
        "    else:\n",
        "        return noun + 's'\n",
        "\n",
        "nouns = ['cat', 'box', 'baby', 'church', 'brush', 'toy']\n",
        "\n",
        "for noun in nouns:\n",
        "    plural = generate_plural(noun)\n",
        "    print(f\"{noun} -> {plural}\")"
      ]
    }
  ]
}