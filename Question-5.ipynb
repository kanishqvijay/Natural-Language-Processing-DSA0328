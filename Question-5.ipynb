{
  "nbformat": 4,
  "nbformat_minor": 0,
  "metadata": {
    "colab": {
      "provenance": [],
      "authorship_tag": "ABX9TyMUH0RC4nQrIXjnV0m5ZiaL",
      "include_colab_link": true
    },
    "kernelspec": {
      "name": "python3",
      "display_name": "Python 3"
    },
    "language_info": {
      "name": "python"
    }
  },
  "cells": [
    {
      "cell_type": "markdown",
      "metadata": {
        "id": "view-in-github",
        "colab_type": "text"
      },
      "source": [
        "<a href=\"https://colab.research.google.com/github/kanishqvijay/DSA0328-Natural-Language-Processing/blob/main/Program-3.ipynb\" target=\"_parent\"><img src=\"https://colab.research.google.com/assets/colab-badge.svg\" alt=\"Open In Colab\"/></a>"
      ]
    },
    {
      "cell_type": "code",
      "execution_count": 3,
      "metadata": {
        "colab": {
          "base_uri": "https://localhost:8080/"
        },
        "id": "AkxgBWrP3SS4",
        "outputId": "6c0408d2-af70-4dfa-9ea5-6c542e6df8a8"
      },
      "outputs": [
        {
          "output_type": "stream",
          "name": "stderr",
          "text": [
            "[nltk_data] Downloading package punkt to /root/nltk_data...\n",
            "[nltk_data]   Unzipping tokenizers/punkt.zip.\n"
          ]
        },
        {
          "output_type": "stream",
          "name": "stdout",
          "text": [
            "Word -> Stem\n",
            "--------------------\n",
            "running -> run\n",
            "fishing -> fish\n",
            "played -> play\n",
            "games -> game\n",
            "better -> better\n",
            "beautiful -> beauti\n"
          ]
        }
      ],
      "source": [
        "import nltk\n",
        "from nltk.stem import PorterStemmer\n",
        "nltk.download('punkt')\n",
        "\n",
        "stemmer = PorterStemmer()\n",
        "words = [\"running\", \"fishing\", \"played\", \"games\", \"better\", \"beautiful\"]\n",
        "\n",
        "stemmed_words = [(word, stemmer.stem(word)) for word in words]\n",
        "\n",
        "print(\"Word -> Stem\")\n",
        "print(\"-\" * 20)\n",
        "for original, stemmed in stemmed_words:\n",
        "    print(f\"{original} -> {stemmed}\")"
      ]
    }
  ]
}
