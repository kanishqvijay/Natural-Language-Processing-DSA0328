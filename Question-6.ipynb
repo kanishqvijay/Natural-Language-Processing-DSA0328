{
  "nbformat": 4,
  "nbformat_minor": 0,
  "metadata": {
    "colab": {
      "provenance": [],
      "authorship_tag": "ABX9TyPxk3MTR4fRsiBDGyZ7s5Q7",
      "include_colab_link": true
    },
    "kernelspec": {
      "name": "python3",
      "display_name": "Python 3"
    },
    "language_info": {
      "name": "python"
    }
  },
  "cells": [
    {
      "cell_type": "markdown",
      "metadata": {
        "id": "view-in-github",
        "colab_type": "text"
      },
      "source": [
        "<a href=\"https://colab.research.google.com/github/kanishqvijay/DSA0328-Natural-Language-Processing/blob/main/Program-4.ipynb\" target=\"_parent\"><img src=\"https://colab.research.google.com/assets/colab-badge.svg\" alt=\"Open In Colab\"/></a>"
      ]
    },
    {
      "cell_type": "code",
      "execution_count": 4,
      "metadata": {
        "colab": {
          "base_uri": "https://localhost:8080/"
        },
        "id": "AkxgBWrP3SS4",
        "outputId": "2cdf04d4-77a2-4a91-e829-26f5a3231986"
      },
      "outputs": [
        {
          "output_type": "stream",
          "name": "stdout",
          "text": [
            "Generated text: the brown dog the lazy dog the brown dog sleeps\n"
          ]
        }
      ],
      "source": [
        "import random\n",
        "from collections import defaultdict\n",
        "\n",
        "def build_bigram_model(text):\n",
        "    words = text.split()\n",
        "    bigrams = defaultdict(list)\n",
        "\n",
        "    for i in range(len(words) - 1):\n",
        "        current_word = words[i]\n",
        "        next_word = words[i + 1]\n",
        "        bigrams[current_word].append(next_word)\n",
        "\n",
        "    return bigrams\n",
        "\n",
        "def generate_text(model, start_word, length=10):\n",
        "    current_word = start_word\n",
        "    generated_text = [current_word]\n",
        "\n",
        "    for _ in range(length - 1):\n",
        "        if current_word not in model:\n",
        "            break\n",
        "        next_word = random.choice(model[current_word])\n",
        "        generated_text.append(next_word)\n",
        "        current_word = next_word\n",
        "\n",
        "    return \" \".join(generated_text)\n",
        "\n",
        "text = \"the quick brown fox jumps over the lazy dog the brown dog sleeps\"\n",
        "model = build_bigram_model(text)\n",
        "generated = generate_text(model, \"the\")\n",
        "print(\"Generated text:\", generated)"
      ]
    }
  ]
}
