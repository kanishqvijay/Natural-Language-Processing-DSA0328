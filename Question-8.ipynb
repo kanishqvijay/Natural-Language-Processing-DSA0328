{
  "nbformat": 4,
  "nbformat_minor": 0,
  "metadata": {
    "colab": {
      "provenance": [],
      "authorship_tag": "ABX9TyNBkhwKsj0K1StKxO3d27kP",
      "include_colab_link": true
    },
    "kernelspec": {
      "name": "python3",
      "display_name": "Python 3"
    },
    "language_info": {
      "name": "python"
    }
  },
  "cells": [
    {
      "cell_type": "markdown",
      "metadata": {
        "id": "view-in-github",
        "colab_type": "text"
      },
      "source": [
        "<a href=\"https://colab.research.google.com/github/kanishqvijay/DSA0328-Natural-Language-Processing/blob/main/Progarm-8.ipynb\" target=\"_parent\"><img src=\"https://colab.research.google.com/assets/colab-badge.svg\" alt=\"Open In Colab\"/></a>"
      ]
    },
    {
      "cell_type": "code",
      "source": [
        "import random\n",
        "\n",
        "class SimpleStochasticTagger:\n",
        "    def __init__(self):\n",
        "        self.word_tags = {\n",
        "            'the': ['DT'],\n",
        "            'cat': ['NN'],\n",
        "            'dog': ['NN'],\n",
        "            'runs': ['VBZ'],\n",
        "            'jumps': ['VBZ'],\n",
        "            'quick': ['JJ'],\n",
        "            'lazy': ['JJ']\n",
        "        }\n",
        "\n",
        "    def tag(self, word):\n",
        "        if word.lower() in self.word_tags:\n",
        "            return random.choice(self.word_tags[word.lower()])\n",
        "        return 'NN'\n",
        "\n",
        "tagger = SimpleStochasticTagger()\n",
        "sentence = \"The quick cat jumps\".split()\n",
        "\n",
        "tagged_sentence = [(word, tagger.tag(word)) for word in sentence]\n",
        "print(\"Word -> POS Tag\")\n",
        "print(\"-\" * 20)\n",
        "for word, tag in tagged_sentence:\n",
        "    print(f\"{word} -> {tag}\")"
      ],
      "metadata": {
        "colab": {
          "base_uri": "https://localhost:8080/"
        },
        "id": "UnXuVsbLKOGl",
        "outputId": "11a40f05-c7c0-45d6-9a12-492680eb85f5"
      },
      "execution_count": 18,
      "outputs": [
        {
          "output_type": "stream",
          "name": "stdout",
          "text": [
            "Word -> POS Tag\n",
            "--------------------\n",
            "The -> DT\n",
            "quick -> JJ\n",
            "cat -> NN\n",
            "jumps -> VBZ\n"
          ]
        }
      ]
    }
  ]
}
